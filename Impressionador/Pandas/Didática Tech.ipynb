{
 "cells": [
  {
   "cell_type": "code",
   "execution_count": 1,
   "id": "23a99442",
   "metadata": {},
   "outputs": [
    {
     "name": "stdout",
     "output_type": "stream",
     "text": [
      "{'Nome': ['Ricardo', 'Pedro', 'Roberto', 'Carlos'], 'Nota': [4, 7, 5.5, 9], 'Aprovado': ['Não', 'Sim', 'Não', 'Sim']}\n"
     ]
    }
   ],
   "source": [
    "import pandas as pd\n",
    "alunos = { 'Nome':['Ricardo', 'Pedro', 'Roberto', 'Carlos'],\n",
    "          'Nota':[4, 7, 5.5, 9],\n",
    "          'Aprovado': ['Não', 'Sim', 'Não', 'Sim']\n",
    "          \n",
    "    \n",
    "}\n",
    "\n",
    "print(alunos)"
   ]
  },
  {
   "cell_type": "code",
   "execution_count": 2,
   "id": "a809f986",
   "metadata": {},
   "outputs": [],
   "source": [
    "dataframe = pd.DataFrame(alunos)"
   ]
  },
  {
   "cell_type": "code",
   "execution_count": 4,
   "id": "166db509",
   "metadata": {},
   "outputs": [
    {
     "data": {
      "text/html": [
       "<div>\n",
       "<style scoped>\n",
       "    .dataframe tbody tr th:only-of-type {\n",
       "        vertical-align: middle;\n",
       "    }\n",
       "\n",
       "    .dataframe tbody tr th {\n",
       "        vertical-align: top;\n",
       "    }\n",
       "\n",
       "    .dataframe thead th {\n",
       "        text-align: right;\n",
       "    }\n",
       "</style>\n",
       "<table border=\"1\" class=\"dataframe\">\n",
       "  <thead>\n",
       "    <tr style=\"text-align: right;\">\n",
       "      <th></th>\n",
       "      <th>Nome</th>\n",
       "      <th>Nota</th>\n",
       "      <th>Aprovado</th>\n",
       "    </tr>\n",
       "  </thead>\n",
       "  <tbody>\n",
       "    <tr>\n",
       "      <th>0</th>\n",
       "      <td>Ricardo</td>\n",
       "      <td>4.0</td>\n",
       "      <td>Não</td>\n",
       "    </tr>\n",
       "    <tr>\n",
       "      <th>1</th>\n",
       "      <td>Pedro</td>\n",
       "      <td>7.0</td>\n",
       "      <td>Sim</td>\n",
       "    </tr>\n",
       "    <tr>\n",
       "      <th>2</th>\n",
       "      <td>Roberto</td>\n",
       "      <td>5.5</td>\n",
       "      <td>Não</td>\n",
       "    </tr>\n",
       "    <tr>\n",
       "      <th>3</th>\n",
       "      <td>Carlos</td>\n",
       "      <td>9.0</td>\n",
       "      <td>Sim</td>\n",
       "    </tr>\n",
       "  </tbody>\n",
       "</table>\n",
       "</div>"
      ],
      "text/plain": [
       "      Nome  Nota Aprovado\n",
       "0  Ricardo   4.0      Não\n",
       "1    Pedro   7.0      Sim\n",
       "2  Roberto   5.5      Não\n",
       "3   Carlos   9.0      Sim"
      ]
     },
     "metadata": {},
     "output_type": "display_data"
    }
   ],
   "source": [
    "display(dataframe)"
   ]
  },
  {
   "cell_type": "code",
   "execution_count": 5,
   "id": "c793fdec",
   "metadata": {},
   "outputs": [
    {
     "name": "stdout",
     "output_type": "stream",
     "text": [
      "0     2\n",
      "1     6\n",
      "2     9\n",
      "3    10\n",
      "4     5\n",
      "dtype: int64\n"
     ]
    }
   ],
   "source": [
    "#series = cria um array com indices.\n",
    "objeto1 = pd.Series([2,6,9,10,5])\n",
    "print(objeto1)"
   ]
  },
  {
   "cell_type": "code",
   "execution_count": 9,
   "id": "2c7037b5",
   "metadata": {},
   "outputs": [
    {
     "name": "stdout",
     "output_type": "stream",
     "text": [
      "[ 2  6  9 10  5]\n",
      "[[ 2  6  9 10  5]\n",
      " [ 6 12  2  9 10]]\n"
     ]
    }
   ],
   "source": [
    "import numpy as np\n",
    "\n",
    "array1 = np.array([2,6,9,10,5])\n",
    "array2 = np.array([(2,6,9,10,5), (6, 12, 2, 9, 10)])                  \n",
    "\n",
    "print(array1)\n",
    "print(array2)"
   ]
  },
  {
   "cell_type": "code",
   "execution_count": 10,
   "id": "98321f90",
   "metadata": {},
   "outputs": [
    {
     "name": "stdout",
     "output_type": "stream",
     "text": [
      "0     2\n",
      "1     6\n",
      "2     9\n",
      "3    10\n",
      "4     5\n",
      "dtype: int32\n"
     ]
    }
   ],
   "source": [
    "objeto2 = pd.Series(array1)\n",
    "print(objeto2)"
   ]
  }
 ],
 "metadata": {
  "kernelspec": {
   "display_name": "Python 3 (ipykernel)",
   "language": "python",
   "name": "python3"
  },
  "language_info": {
   "codemirror_mode": {
    "name": "ipython",
    "version": 3
   },
   "file_extension": ".py",
   "mimetype": "text/x-python",
   "name": "python",
   "nbconvert_exporter": "python",
   "pygments_lexer": "ipython3",
   "version": "3.9.7"
  }
 },
 "nbformat": 4,
 "nbformat_minor": 5
}
